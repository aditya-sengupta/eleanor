{
 "cells": [
  {
   "cell_type": "code",
   "execution_count": 18,
   "metadata": {},
   "outputs": [
    {
     "name": "stdout",
     "output_type": "stream",
     "text": [
      "The autoreload extension is already loaded. To reload it, use:\n",
      "  %reload_ext autoreload\n"
     ]
    }
   ],
   "source": [
    "import eleanor\n",
    "import numpy as np\n",
    "import lightkurve as lk\n",
    "from matplotlib import pyplot as plt\n",
    "import tqdm\n",
    "import scipy.optimize as sopt\n",
    "from scipy.special import iv\n",
    "from scipy.signal import convolve2d\n",
    "from zernike import RZern, FitZern\n",
    "import torch\n",
    "from torch.autograd import grad as tgrad\n",
    "from copy import deepcopy\n",
    "%load_ext autoreload\n",
    "%autoreload 2"
   ]
  },
  {
   "cell_type": "code",
   "execution_count": 46,
   "metadata": {},
   "outputs": [
    {
     "name": "stderr",
     "output_type": "stream",
     "text": [
      "WARNING: The \"exact\" method is not yet implemented for rectangular apertures -- using \"subpixel\" method with \"subpixels=32\" [photutils.aperture.core]\n",
      "/Users/adityasengupta/research/pals/photometry/eleanor/eleanor/targetdata.py:511: UserWarning: WARNING: Making a TPF smaller than (13,13) may provide inadequate results.\n",
      "  warnings.warn('WARNING: Making a TPF smaller than (13,13) may provide inadequate results.')\n"
     ]
    }
   ],
   "source": [
    "# first, step 1: surgically extract code from afeinstein20/eleanor/master that still operates with my new API\n",
    "star = eleanor.Source(tic=120362128, sector=14, tc=True)\n",
    "star.premade = False\n",
    "sc = lk.search_targetpixelfile(target='tic120362128', sector=14).download()\n",
    "sq = sc.quality < 5000\n",
    "start = 2500\n",
    "end = 3400\n",
    "time = sc.time[sq][start:end].value\n",
    "tpfs = sc.flux[sq][start:end].value\n",
    "errs = sc.flux_err[sq][start:end].value\n",
    "bkgs = sc.flux_bkg[sq,0,0][start:end].value\n",
    "bkg0 = np.mean(bkgs)\n",
    "data = eleanor.TargetData(\n",
    "    star, \n",
    "    height=11, \n",
    "    width=11, \n",
    "    do_pca=True,\n",
    "    do_psf=False,\n",
    ")\n",
    "sources_in_tpf = eleanor.mast.gaia_sources_in_tpf(star, 10, tpfs.shape[1:])\n",
    "xc = np.array(sources_in_tpf.coords_x) + tpfs.shape[2] / 2\n",
    "yc = np.array(sources_in_tpf.coords_y) + tpfs.shape[1] / 2\n",
    "x, y = np.meshgrid(range(-58, 59), range(-58, 59)) \n",
    "nstars = len(xc)"
   ]
  },
  {
   "cell_type": "code",
   "execution_count": 47,
   "metadata": {},
   "outputs": [],
   "source": [
    "prf = eleanor.make_prf_from_source(star)"
   ]
  },
  {
   "cell_type": "code",
   "execution_count": 48,
   "metadata": {},
   "outputs": [
    {
     "data": {
      "text/plain": [
       "<matplotlib.image.AxesImage at 0x7ffa22ed9490>"
      ]
     },
     "execution_count": 48,
     "metadata": {},
     "output_type": "execute_result"
    },
    {
     "data": {
      "image/png": "[encoded data removed]",
      "text/plain": [
       "<Figure size 432x288 with 1 Axes>"
      ]
     },
     "metadata": {
      "needs_background": "light"
     },
     "output_type": "display_data"
    }
   ],
   "source": [
    "plt.imshow(tpfs[0])"
   ]
  },
  {
   "cell_type": "code",
   "execution_count": 62,
   "metadata": {},
   "outputs": [],
   "source": [
    "tpfs_t = [torch.tensor(d) for d in tpfs.astype(np.float32)]\n",
    "errs_t = [torch.tensor(e) for e in errs.astype(np.float32)]\n",
    "nll = lambda mean_val, i: torch.sum(torch.div((mean_val - tpfs_t[i]) ** 2, errs_t[i]))"
   ]
  },
  {
   "cell_type": "code",
   "execution_count": 63,
   "metadata": {},
   "outputs": [],
   "source": [
    "gaussian_oversampled = eleanor.models.Gaussian(\n",
    "    shape=(99,99),\n",
    "    col_ref=0,\n",
    "    row_ref=0,\n",
    "    xc=9*xc,\n",
    "    yc=9*yc,\n",
    "    bkg0 = np.max(bkg0),\n",
    "    loss = nll,\n",
    "    source = star\n",
    ")\n",
    "\n",
    "def mean_with_prf(fluxes, xshift, yshift, bkg, optpars):\n",
    "    mean99 = convolve2d(gaussian_oversampled.mean(fluxes, xshift, yshift, bkg, optpars).detach().numpy(), prf, mode='same')\n",
    "    return torch.tensor(np.array([[np.mean(mean99[9*i:9*(i+1), 9*j:9*(j+1)]) for i in range(11)] for j in range(11)]))"
   ]
  },
  {
   "cell_type": "code",
   "execution_count": 66,
   "metadata": {},
   "outputs": [],
   "source": [
    "def loss_and_grad_fn(params, i):\n",
    "    params = torch.tensor(params, requires_grad=True)\n",
    "    fluxes = params[:nstars]\n",
    "    xshift, yshift, bkg = params[nstars:nstars+3]\n",
    "    optpars = params[nstars+3:]\n",
    "    mean_val = mean_with_prf(fluxes, xshift, yshift, bkg, optpars)\n",
    "    loss = nll(mean_val, i)\n",
    "    print(loss)\n",
    "    gradient = tgrad(loss, params)\n",
    "    return loss.detach().numpy(), gradient[0].detach().numpy()"
   ]
  },
  {
   "cell_type": "code",
   "execution_count": 67,
   "metadata": {},
   "outputs": [
    {
     "name": "stdout",
     "output_type": "stream",
     "text": [
      "tensor(5.6245e+09, dtype=torch.float64)\n"
     ]
    },
    {
     "ename": "RuntimeError",
     "evalue": "element 0 of tensors does not require grad and does not have a grad_fn",
     "output_type": "error",
     "traceback": [
      "\u001b[0;31m---------------------------------------------------------------------------\u001b[0m",
      "\u001b[0;31mRuntimeError\u001b[0m                              Traceback (most recent call last)",
      "\u001b[0;32m<ipython-input-67-94d61280b02c>\u001b[0m in \u001b[0;36m<module>\u001b[0;34m\u001b[0m\n\u001b[0;32m----> 1\u001b[0;31m \u001b[0mloss_and_grad_fn\u001b[0m\u001b[0;34m(\u001b[0m\u001b[0mgaussian_oversampled\u001b[0m\u001b[0;34m.\u001b[0m\u001b[0mget_default_par\u001b[0m\u001b[0;34m(\u001b[0m\u001b[0mtpfs\u001b[0m\u001b[0;34m[\u001b[0m\u001b[0;36m0\u001b[0m\u001b[0;34m]\u001b[0m\u001b[0;34m)\u001b[0m\u001b[0;34m,\u001b[0m \u001b[0;36m0\u001b[0m\u001b[0;34m)\u001b[0m\u001b[0;34m\u001b[0m\u001b[0;34m\u001b[0m\u001b[0m\n\u001b[0m",
      "\u001b[0;32m<ipython-input-66-157f01cbc3db>\u001b[0m in \u001b[0;36mloss_and_grad_fn\u001b[0;34m(params, i)\u001b[0m\n\u001b[1;32m      7\u001b[0m     \u001b[0mloss\u001b[0m \u001b[0;34m=\u001b[0m \u001b[0mnll\u001b[0m\u001b[0;34m(\u001b[0m\u001b[0mmean_val\u001b[0m\u001b[0;34m,\u001b[0m \u001b[0mi\u001b[0m\u001b[0;34m)\u001b[0m\u001b[0;34m\u001b[0m\u001b[0;34m\u001b[0m\u001b[0m\n\u001b[1;32m      8\u001b[0m     \u001b[0mprint\u001b[0m\u001b[0;34m(\u001b[0m\u001b[0mloss\u001b[0m\u001b[0;34m)\u001b[0m\u001b[0;34m\u001b[0m\u001b[0;34m\u001b[0m\u001b[0m\n\u001b[0;32m----> 9\u001b[0;31m     \u001b[0mgradient\u001b[0m \u001b[0;34m=\u001b[0m \u001b[0mtgrad\u001b[0m\u001b[0;34m(\u001b[0m\u001b[0mloss\u001b[0m\u001b[0;34m,\u001b[0m \u001b[0mparams\u001b[0m\u001b[0;34m)\u001b[0m\u001b[0;34m\u001b[0m\u001b[0;34m\u001b[0m\u001b[0m\n\u001b[0m\u001b[1;32m     10\u001b[0m     \u001b[0;32mreturn\u001b[0m \u001b[0mloss\u001b[0m\u001b[0;34m.\u001b[0m\u001b[0mdetach\u001b[0m\u001b[0;34m(\u001b[0m\u001b[0;34m)\u001b[0m\u001b[0;34m.\u001b[0m\u001b[0mnumpy\u001b[0m\u001b[0;34m(\u001b[0m\u001b[0;34m)\u001b[0m\u001b[0;34m,\u001b[0m \u001b[0mgradient\u001b[0m\u001b[0;34m[\u001b[0m\u001b[0;36m0\u001b[0m\u001b[0;34m]\u001b[0m\u001b[0;34m.\u001b[0m\u001b[0mdetach\u001b[0m\u001b[0;34m(\u001b[0m\u001b[0;34m)\u001b[0m\u001b[0;34m.\u001b[0m\u001b[0mnumpy\u001b[0m\u001b[0;34m(\u001b[0m\u001b[0;34m)\u001b[0m\u001b[0;34m\u001b[0m\u001b[0;34m\u001b[0m\u001b[0m\n",
      "\u001b[0;32m~/opt/anaconda3/envs/eleanorupgrade/lib/python3.8/site-packages/torch/autograd/__init__.py\u001b[0m in \u001b[0;36mgrad\u001b[0;34m(outputs, inputs, grad_outputs, retain_graph, create_graph, only_inputs, allow_unused)\u001b[0m\n\u001b[1;32m    200\u001b[0m         \u001b[0mretain_graph\u001b[0m \u001b[0;34m=\u001b[0m \u001b[0mcreate_graph\u001b[0m\u001b[0;34m\u001b[0m\u001b[0;34m\u001b[0m\u001b[0m\n\u001b[1;32m    201\u001b[0m \u001b[0;34m\u001b[0m\u001b[0m\n\u001b[0;32m--> 202\u001b[0;31m     return Variable._execution_engine.run_backward(\n\u001b[0m\u001b[1;32m    203\u001b[0m         \u001b[0moutputs\u001b[0m\u001b[0;34m,\u001b[0m \u001b[0mgrad_outputs_\u001b[0m\u001b[0;34m,\u001b[0m \u001b[0mretain_graph\u001b[0m\u001b[0;34m,\u001b[0m \u001b[0mcreate_graph\u001b[0m\u001b[0;34m,\u001b[0m\u001b[0;34m\u001b[0m\u001b[0;34m\u001b[0m\u001b[0m\n\u001b[1;32m    204\u001b[0m         inputs, allow_unused)\n",
      "\u001b[0;31mRuntimeError\u001b[0m: element 0 of tensors does not require grad and does not have a grad_fn"
     ]
    }
   ],
   "source": [
    "loss_and_grad_fn(gaussian_oversampled.get_default_par(tpfs[0]), 0)"
   ]
  },
  {
   "cell_type": "code",
   "execution_count": null,
   "metadata": {},
   "outputs": [],
   "source": []
  }
 ],
 "metadata": {
  "kernelspec": {
   "display_name": "Python 3",
   "language": "python",
   "name": "python3"
  },
  "language_info": {
   "codemirror_mode": {
    "name": "ipython",
    "version": 3
   },
   "file_extension": ".py",
   "mimetype": "text/x-python",
   "name": "python",
   "nbconvert_exporter": "python",
   "pygments_lexer": "ipython3",
   "version": "3.8.5"
  }
 },
 "nbformat": 4,
 "nbformat_minor": 4
}
