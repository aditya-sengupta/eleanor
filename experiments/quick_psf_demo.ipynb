{
 "cells": [
  {
   "cell_type": "code",
   "execution_count": 9,
   "metadata": {
    "tags": []
   },
   "outputs": [
    {
     "output_type": "stream",
     "name": "stdout",
     "text": "The autoreload extension is already loaded. To reload it, use:\n  %reload_ext autoreload\n"
    }
   ],
   "source": [
    "import numpy as np\n",
    "import matplotlib.pyplot as plt\n",
    "import eleanor\n",
    "import lightkurve as lk\n",
    "import copy\n",
    "import torch\n",
    "%load_ext autoreload\n",
    "%autoreload 2"
   ]
  },
  {
   "cell_type": "code",
   "execution_count": 10,
   "metadata": {
    "tags": []
   },
   "outputs": [],
   "source": [
    "star = eleanor.Source(tic=120362128, sector=14, tc=True)"
   ]
  },
  {
   "cell_type": "code",
   "execution_count": 16,
   "metadata": {
    "tags": []
   },
   "outputs": [
    {
     "output_type": "stream",
     "name": "stderr",
     "text": "100%|██████████| 1241/1241 [08:46<00:00,  2.36it/s]\n"
    }
   ],
   "source": [
    "data = eleanor.TargetData(star, height=15, width=15, do_pca=True, do_psf=True)"
   ]
  },
  {
   "cell_type": "code",
   "execution_count": 4,
   "metadata": {},
   "outputs": [],
   "source": [
    "sc = lk.search_targetpixelfile(target='tic120362128', sector=14).download()\n",
    "sq = sc.quality < 5000\n",
    "start = 2500\n",
    "end = 3400"
   ]
  },
  {
   "cell_type": "code",
   "execution_count": 7,
   "metadata": {
    "tags": []
   },
   "outputs": [
    {
     "output_type": "stream",
     "name": "stderr",
     "text": "100%|██████████| 900/900 [00:51<00:00, 17.60it/s]\n100%|██████████| 900/900 [01:02<00:00, 14.39it/s]\n"
    }
   ],
   "source": [
    "data_m = copy.deepcopy(data)\n",
    "data_z = copy.deepcopy(data)\n",
    "data.psf_lightcurve(data_arr = sc.flux[sq][start:end], err_arr = sc.flux_err[sq][start:end], \n",
    "                        bkg_arr=sc.flux_bkg[sq,0,0][start:end], verbose=True, nstars=3, xc=[4.9, 4.5, 4.7], \n",
    "                        yc=[3.0, 4.4, 7.0], ignore_pixels=1)\n",
    "data_m.psf_lightcurve(data_arr = sc.flux[sq][start:end], err_arr = sc.flux_err[sq][start:end], \n",
    "                        bkg_arr=sc.flux_bkg[sq,0,0][start:end], verbose=True, nstars=3, model='moffat', xc=[4.9, 4.5, 4.7],\n",
    "                        yc=[3.0, 4.4, 7.0], ignore_pixels=1)"
   ]
  },
  {
   "cell_type": "code",
   "execution_count": 38,
   "metadata": {
    "tags": []
   },
   "outputs": [
    {
     "output_type": "error",
     "ename": "NameError",
     "evalue": "name 'data_z' is not defined",
     "traceback": [
      "\u001b[0;31m---------------------------------------------------------------------------\u001b[0m",
      "\u001b[0;31mNameError\u001b[0m                                 Traceback (most recent call last)",
      "\u001b[0;32m<ipython-input-38-719154f02380>\u001b[0m in \u001b[0;36m<module>\u001b[0;34m\u001b[0m\n\u001b[0;32m----> 1\u001b[0;31m data_z.psf_lightcurve(data_arr = sc.flux[sq][start:end], err_arr = sc.flux_err[sq][start:end], \n\u001b[0m\u001b[1;32m      2\u001b[0m                         bkg_arr=sc.flux_bkg[sq,0,0][start:end], verbose=True, nstars=3, model='zernike', xc=[4.9, 4.5, 4.7], yc=[3.0, 4.4, 7.0], ignore_pixels=1)\n",
      "\u001b[0;31mNameError\u001b[0m: name 'data_z' is not defined"
     ]
    }
   ],
   "source": [
    "data_z.psf_lightcurve(data_arr = sc.flux[sq][start:end], err_arr = sc.flux_err[sq][start:end], \n",
    "                        bkg_arr=sc.flux_bkg[sq,0,0][start:end], verbose=True, nstars=3, model='zernike', xc=[4.9, 4.5, 4.7], yc=[3.0, 4.4, 7.0], ignore_pixels=1)"
   ]
  },
  {
   "cell_type": "code",
   "execution_count": 76,
   "metadata": {
    "tags": []
   },
   "outputs": [
    {
     "output_type": "execute_result",
     "data": {
      "text/plain": "<matplotlib.image.AxesImage at 0x7fd1b085f350>"
     },
     "metadata": {},
     "execution_count": 76
    },
    {
     "output_type": "display_data",
     "data": {
      "text/plain": "<Figure size 432x288 with 1 Axes>",
      "image/svg+xml": "<?xml version=\"1.0\" encoding=\"utf-8\" standalone=\"no\"?>\n<!DOCTYPE svg PUBLIC \"-//W3C//DTD SVG 1.1//EN\"\n  \"http://www.w3.org/Graphics/SVG/1.1/DTD/svg11.dtd\">\n<!-- Created with matplotlib (https://matplotlib.org/) -->\n<svg height=\"250.098568pt\" version=\"1.1\" viewBox=\"0 0 251.565 250.098568\" width=\"251.565pt\" xmlns=\"http://www.w3.org/2000/svg\" xmlns:xlink=\"http://www.w3.org/1999/xlink\">\n <metadata>\n  <rdf:RDF xmlns:cc=\"http://creativecommons.org/ns#\" xmlns:dc=\"http://purl.org/dc/elements/1.1/\" xmlns:rdf=\"http://www.w3.org/1999/02/22-rdf-syntax-ns#\">\n   <cc:Work>\n    <dc:type rdf:resource=\"http://purl.org/dc/dcmitype/StillImage\"/>\n    <dc:date>2020-09-08T20:47:37.298380</dc:date>\n    <dc:format>image/svg+xml</dc:format>\n    <dc:creator>\n     <cc:Agent>\n      <dc:title>Matplotlib v3.3.1, https://matplotlib.org/</dc:title>\n     </cc:Agent>\n    </dc:creator>\n   </cc:Work>\n  </rdf:RDF>\n </metadata>\n <defs>\n  <style type=\"text/css\">*{stroke-linecap:butt;stroke-linejoin:round;}</style>\n </defs>\n <g id=\"figure_1\">\n  <g id=\"patch_1\">\n   <path d=\"M 0 250.098568 \nL 251.565 250.098568 \nL 251.565 0 \nL 0 0 \nz\n\" style=\"fill:none;\"/>\n  </g>\n  <g id=\"axes_1\">\n   <g id=\"patch_2\">\n    <path d=\"M 26.925 226.220443 \nL 244.365 226.220443 \nL 244.365 8.780443 \nL 26.925 8.780443 \nz\n\" style=\"fill:#ffffff;\"/>\n   </g>\n   <g clip-path=\"url(#p753539c40e)\">\n    <image height=\"218\" id=\"image552b207930\" transform=\"scale(1 -1)translate(0 -218)\" width=\"218\" x=\"26.925\" xlink:href=\"data:image/png;base64,\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\" y=\"-8.220443\"/>\n   </g>\n   <g id=\"matplotlib.axis_1\">\n    <g id=\"xtick_1\">\n     <g id=\"line2d_1\">\n      <defs>\n       <path d=\"M 0 0 \nL 0 3.5 \n\" id=\"m045fbded7b\" style=\"stroke:#000000;stroke-width:0.8;\"/>\n      </defs>\n      <g>\n       <use style=\"stroke:#000000;stroke-width:0.8;\" x=\"29.143776\" xlink:href=\"#m045fbded7b\" y=\"226.220443\"/>\n      </g>\n     </g>\n     <g id=\"text_1\">\n      <!-- 0 -->\n      <g transform=\"translate(25.962526 240.818881)scale(0.1 -0.1)\">\n       <defs>\n        <path d=\"M 31.78125 66.40625 \nQ 24.171875 66.40625 20.328125 58.90625 \nQ 16.5 51.421875 16.5 36.375 \nQ 16.5 21.390625 20.328125 13.890625 \nQ 24.171875 6.390625 31.78125 6.390625 \nQ 39.453125 6.390625 43.28125 13.890625 \nQ 47.125 21.390625 47.125 36.375 \nQ 47.125 51.421875 43.28125 58.90625 \nQ 39.453125 66.40625 31.78125 66.40625 \nz\nM 31.78125 74.21875 \nQ 44.046875 74.21875 50.515625 64.515625 \nQ 56.984375 54.828125 56.984375 36.375 \nQ 56.984375 17.96875 50.515625 8.265625 \nQ 44.046875 -1.421875 31.78125 -1.421875 \nQ 19.53125 -1.421875 13.0625 8.265625 \nQ 6.59375 17.96875 6.59375 36.375 \nQ 6.59375 54.828125 13.0625 64.515625 \nQ 19.53125 74.21875 31.78125 74.21875 \nz\n\" id=\"DejaVuSans-48\"/>\n       </defs>\n       <use xlink:href=\"#DejaVuSans-48\"/>\n      </g>\n     </g>\n    </g>\n    <g id=\"xtick_2\">\n     <g id=\"line2d_2\">\n      <g>\n       <use style=\"stroke:#000000;stroke-width:0.8;\" x=\"73.519286\" xlink:href=\"#m045fbded7b\" y=\"226.220443\"/>\n      </g>\n     </g>\n     <g id=\"text_2\">\n      <!-- 10 -->\n      <g transform=\"translate(67.156786 240.818881)scale(0.1 -0.1)\">\n       <defs>\n        <path d=\"M 12.40625 8.296875 \nL 28.515625 8.296875 \nL 28.515625 63.921875 \nL 10.984375 60.40625 \nL 10.984375 69.390625 \nL 28.421875 72.90625 \nL 38.28125 72.90625 \nL 38.28125 8.296875 \nL 54.390625 8.296875 \nL 54.390625 0 \nL 12.40625 0 \nz\n\" id=\"DejaVuSans-49\"/>\n       </defs>\n       <use xlink:href=\"#DejaVuSans-49\"/>\n       <use x=\"63.623047\" xlink:href=\"#DejaVuSans-48\"/>\n      </g>\n     </g>\n    </g>\n    <g id=\"xtick_3\">\n     <g id=\"line2d_3\">\n      <g>\n       <use style=\"stroke:#000000;stroke-width:0.8;\" x=\"117.894796\" xlink:href=\"#m045fbded7b\" y=\"226.220443\"/>\n      </g>\n     </g>\n     <g id=\"text_3\">\n      <!-- 20 -->\n      <g transform=\"translate(111.532296 240.818881)scale(0.1 -0.1)\">\n       <defs>\n        <path d=\"M 19.1875 8.296875 \nL 53.609375 8.296875 \nL 53.609375 0 \nL 7.328125 0 \nL 7.328125 8.296875 \nQ 12.9375 14.109375 22.625 23.890625 \nQ 32.328125 33.6875 34.8125 36.53125 \nQ 39.546875 41.84375 41.421875 45.53125 \nQ 43.3125 49.21875 43.3125 52.78125 \nQ 43.3125 58.59375 39.234375 62.25 \nQ 35.15625 65.921875 28.609375 65.921875 \nQ 23.96875 65.921875 18.8125 64.3125 \nQ 13.671875 62.703125 7.8125 59.421875 \nL 7.8125 69.390625 \nQ 13.765625 71.78125 18.9375 73 \nQ 24.125 74.21875 28.421875 74.21875 \nQ 39.75 74.21875 46.484375 68.546875 \nQ 53.21875 62.890625 53.21875 53.421875 \nQ 53.21875 48.921875 51.53125 44.890625 \nQ 49.859375 40.875 45.40625 35.40625 \nQ 44.1875 33.984375 37.640625 27.21875 \nQ 31.109375 20.453125 19.1875 8.296875 \nz\n\" id=\"DejaVuSans-50\"/>\n       </defs>\n       <use xlink:href=\"#DejaVuSans-50\"/>\n       <use x=\"63.623047\" xlink:href=\"#DejaVuSans-48\"/>\n      </g>\n     </g>\n    </g>\n    <g id=\"xtick_4\">\n     <g id=\"line2d_4\">\n      <g>\n       <use style=\"stroke:#000000;stroke-width:0.8;\" x=\"162.270306\" xlink:href=\"#m045fbded7b\" y=\"226.220443\"/>\n      </g>\n     </g>\n     <g id=\"text_4\">\n      <!-- 30 -->\n      <g transform=\"translate(155.907806 240.818881)scale(0.1 -0.1)\">\n       <defs>\n        <path d=\"M 40.578125 39.3125 \nQ 47.65625 37.796875 51.625 33 \nQ 55.609375 28.21875 55.609375 21.1875 \nQ 55.609375 10.40625 48.1875 4.484375 \nQ 40.765625 -1.421875 27.09375 -1.421875 \nQ 22.515625 -1.421875 17.65625 -0.515625 \nQ 12.796875 0.390625 7.625 2.203125 \nL 7.625 11.71875 \nQ 11.71875 9.328125 16.59375 8.109375 \nQ 21.484375 6.890625 26.8125 6.890625 \nQ 36.078125 6.890625 40.9375 10.546875 \nQ 45.796875 14.203125 45.796875 21.1875 \nQ 45.796875 27.640625 41.28125 31.265625 \nQ 36.765625 34.90625 28.71875 34.90625 \nL 20.21875 34.90625 \nL 20.21875 43.015625 \nL 29.109375 43.015625 \nQ 36.375 43.015625 40.234375 45.921875 \nQ 44.09375 48.828125 44.09375 54.296875 \nQ 44.09375 59.90625 40.109375 62.90625 \nQ 36.140625 65.921875 28.71875 65.921875 \nQ 24.65625 65.921875 20.015625 65.03125 \nQ 15.375 64.15625 9.8125 62.3125 \nL 9.8125 71.09375 \nQ 15.4375 72.65625 20.34375 73.4375 \nQ 25.25 74.21875 29.59375 74.21875 \nQ 40.828125 74.21875 47.359375 69.109375 \nQ 53.90625 64.015625 53.90625 55.328125 \nQ 53.90625 49.265625 50.4375 45.09375 \nQ 46.96875 40.921875 40.578125 39.3125 \nz\n\" id=\"DejaVuSans-51\"/>\n       </defs>\n       <use xlink:href=\"#DejaVuSans-51\"/>\n       <use x=\"63.623047\" xlink:href=\"#DejaVuSans-48\"/>\n      </g>\n     </g>\n    </g>\n    <g id=\"xtick_5\">\n     <g id=\"line2d_5\">\n      <g>\n       <use style=\"stroke:#000000;stroke-width:0.8;\" x=\"206.645816\" xlink:href=\"#m045fbded7b\" y=\"226.220443\"/>\n      </g>\n     </g>\n     <g id=\"text_5\">\n      <!-- 40 -->\n      <g transform=\"translate(200.283316 240.818881)scale(0.1 -0.1)\">\n       <defs>\n        <path d=\"M 37.796875 64.3125 \nL 12.890625 25.390625 \nL 37.796875 25.390625 \nz\nM 35.203125 72.90625 \nL 47.609375 72.90625 \nL 47.609375 25.390625 \nL 58.015625 25.390625 \nL 58.015625 17.1875 \nL 47.609375 17.1875 \nL 47.609375 0 \nL 37.796875 0 \nL 37.796875 17.1875 \nL 4.890625 17.1875 \nL 4.890625 26.703125 \nz\n\" id=\"DejaVuSans-52\"/>\n       </defs>\n       <use xlink:href=\"#DejaVuSans-52\"/>\n       <use x=\"63.623047\" xlink:href=\"#DejaVuSans-48\"/>\n      </g>\n     </g>\n    </g>\n   </g>\n   <g id=\"matplotlib.axis_2\">\n    <g id=\"ytick_1\">\n     <g id=\"line2d_6\">\n      <defs>\n       <path d=\"M 0 0 \nL -3.5 0 \n\" id=\"m1c936061ec\" style=\"stroke:#000000;stroke-width:0.8;\"/>\n      </defs>\n      <g>\n       <use style=\"stroke:#000000;stroke-width:0.8;\" x=\"26.925\" xlink:href=\"#m1c936061ec\" y=\"10.999219\"/>\n      </g>\n     </g>\n     <g id=\"text_6\">\n      <!-- 0 -->\n      <g transform=\"translate(13.5625 14.798437)scale(0.1 -0.1)\">\n       <use xlink:href=\"#DejaVuSans-48\"/>\n      </g>\n     </g>\n    </g>\n    <g id=\"ytick_2\">\n     <g id=\"line2d_7\">\n      <g>\n       <use style=\"stroke:#000000;stroke-width:0.8;\" x=\"26.925\" xlink:href=\"#m1c936061ec\" y=\"55.374729\"/>\n      </g>\n     </g>\n     <g id=\"text_7\">\n      <!-- 10 -->\n      <g transform=\"translate(7.2 59.173948)scale(0.1 -0.1)\">\n       <use xlink:href=\"#DejaVuSans-49\"/>\n       <use x=\"63.623047\" xlink:href=\"#DejaVuSans-48\"/>\n      </g>\n     </g>\n    </g>\n    <g id=\"ytick_3\">\n     <g id=\"line2d_8\">\n      <g>\n       <use style=\"stroke:#000000;stroke-width:0.8;\" x=\"26.925\" xlink:href=\"#m1c936061ec\" y=\"99.750239\"/>\n      </g>\n     </g>\n     <g id=\"text_8\">\n      <!-- 20 -->\n      <g transform=\"translate(7.2 103.549458)scale(0.1 -0.1)\">\n       <use xlink:href=\"#DejaVuSans-50\"/>\n       <use x=\"63.623047\" xlink:href=\"#DejaVuSans-48\"/>\n      </g>\n     </g>\n    </g>\n    <g id=\"ytick_4\">\n     <g id=\"line2d_9\">\n      <g>\n       <use style=\"stroke:#000000;stroke-width:0.8;\" x=\"26.925\" xlink:href=\"#m1c936061ec\" y=\"144.125749\"/>\n      </g>\n     </g>\n     <g id=\"text_9\">\n      <!-- 30 -->\n      <g transform=\"translate(7.2 147.924968)scale(0.1 -0.1)\">\n       <use xlink:href=\"#DejaVuSans-51\"/>\n       <use x=\"63.623047\" xlink:href=\"#DejaVuSans-48\"/>\n      </g>\n     </g>\n    </g>\n    <g id=\"ytick_5\">\n     <g id=\"line2d_10\">\n      <g>\n       <use style=\"stroke:#000000;stroke-width:0.8;\" x=\"26.925\" xlink:href=\"#m1c936061ec\" y=\"188.50126\"/>\n      </g>\n     </g>\n     <g id=\"text_10\">\n      <!-- 40 -->\n      <g transform=\"translate(7.2 192.300478)scale(0.1 -0.1)\">\n       <use xlink:href=\"#DejaVuSans-52\"/>\n       <use x=\"63.623047\" xlink:href=\"#DejaVuSans-48\"/>\n      </g>\n     </g>\n    </g>\n   </g>\n   <g id=\"patch_3\">\n    <path d=\"M 26.925 226.220443 \nL 26.925 8.780443 \n\" style=\"fill:none;stroke:#000000;stroke-linecap:square;stroke-linejoin:miter;stroke-width:0.8;\"/>\n   </g>\n   <g id=\"patch_4\">\n    <path d=\"M 244.365 226.220443 \nL 244.365 8.780443 \n\" style=\"fill:none;stroke:#000000;stroke-linecap:square;stroke-linejoin:miter;stroke-width:0.8;\"/>\n   </g>\n   <g id=\"patch_5\">\n    <path d=\"M 26.925 226.220443 \nL 244.365 226.220443 \n\" style=\"fill:none;stroke:#000000;stroke-linecap:square;stroke-linejoin:miter;stroke-width:0.8;\"/>\n   </g>\n   <g id=\"patch_6\">\n    <path d=\"M 26.925 8.780443 \nL 244.365 8.780443 \n\" style=\"fill:none;stroke:#000000;stroke-linecap:square;stroke-linejoin:miter;stroke-width:0.8;\"/>\n   </g>\n  </g>\n </g>\n <defs>\n  <clipPath id=\"p753539c40e\">\n   <rect height=\"217.44\" width=\"217.44\" x=\"26.925\" y=\"8.780443\"/>\n  </clipPath>\n </defs>\n</svg>\n",
      "image/png": "[encoded data removed]"
     },
     "metadata": {
      "needs_background": "light"
     }
    }
   ],
   "source": [
    "s = 49\n",
    "zern = eleanor.models.Zernike((s,s),0,0)\n",
    "x, y = zern.x - np.median(zern.x), zern.y - np.median(zern.y)\n",
    "plt.imshow(zern.zernike(3).eval(session=sess) * (x ** 2 + y ** 2 < (s//2) ** 2))"
   ]
  },
  {
   "cell_type": "code",
   "execution_count": 12,
   "metadata": {
    "tags": []
   },
   "outputs": [
    {
     "output_type": "error",
     "ename": "NameError",
     "evalue": "name 'data' is not defined",
     "traceback": [
      "\u001b[0;31m---------------------------------------------------------------------------\u001b[0m",
      "\u001b[0;31mNameError\u001b[0m                                 Traceback (most recent call last)",
      "\u001b[0;32m<ipython-input-12-0ffcbb8afa7d>\u001b[0m in \u001b[0;36m<module>\u001b[0;34m\u001b[0m\n\u001b[1;32m      2\u001b[0m \u001b[0mphotometry_flux\u001b[0m \u001b[0;34m=\u001b[0m \u001b[0msc\u001b[0m\u001b[0;34m.\u001b[0m\u001b[0mto_lightcurve\u001b[0m\u001b[0;34m(\u001b[0m\u001b[0;34m)\u001b[0m\u001b[0;34m.\u001b[0m\u001b[0mflux\u001b[0m\u001b[0;34m[\u001b[0m\u001b[0msq\u001b[0m\u001b[0;34m]\u001b[0m\u001b[0;34m[\u001b[0m\u001b[0mstart\u001b[0m\u001b[0;34m:\u001b[0m\u001b[0mend\u001b[0m\u001b[0;34m]\u001b[0m\u001b[0;34m\u001b[0m\u001b[0;34m\u001b[0m\u001b[0m\n\u001b[1;32m      3\u001b[0m \u001b[0mplt\u001b[0m\u001b[0;34m.\u001b[0m\u001b[0mplot\u001b[0m\u001b[0;34m(\u001b[0m\u001b[0mtime\u001b[0m\u001b[0;34m,\u001b[0m \u001b[0mphotometry_flux\u001b[0m \u001b[0;34m/\u001b[0m \u001b[0mnp\u001b[0m\u001b[0;34m.\u001b[0m\u001b[0mmax\u001b[0m\u001b[0;34m(\u001b[0m\u001b[0mphotometry_flux\u001b[0m\u001b[0;34m)\u001b[0m\u001b[0;34m,\u001b[0m \u001b[0mlabel\u001b[0m\u001b[0;34m=\u001b[0m\u001b[0;34m'aperture photometry'\u001b[0m\u001b[0;34m)\u001b[0m\u001b[0;34m\u001b[0m\u001b[0;34m\u001b[0m\u001b[0m\n\u001b[0;32m----> 4\u001b[0;31m \u001b[0mplt\u001b[0m\u001b[0;34m.\u001b[0m\u001b[0mplot\u001b[0m\u001b[0;34m(\u001b[0m\u001b[0mtime\u001b[0m\u001b[0;34m,\u001b[0m \u001b[0mdata\u001b[0m\u001b[0;34m.\u001b[0m\u001b[0mpsf_flux\u001b[0m\u001b[0;34m[\u001b[0m\u001b[0;34m:\u001b[0m\u001b[0mend\u001b[0m\u001b[0;34m-\u001b[0m\u001b[0mstart\u001b[0m\u001b[0;34m]\u001b[0m \u001b[0;34m/\u001b[0m \u001b[0mnp\u001b[0m\u001b[0;34m.\u001b[0m\u001b[0mmax\u001b[0m\u001b[0;34m(\u001b[0m\u001b[0mdata\u001b[0m\u001b[0;34m.\u001b[0m\u001b[0mpsf_flux\u001b[0m\u001b[0;34m[\u001b[0m\u001b[0;34m:\u001b[0m\u001b[0mend\u001b[0m\u001b[0;34m-\u001b[0m\u001b[0mstart\u001b[0m\u001b[0;34m]\u001b[0m\u001b[0;34m)\u001b[0m\u001b[0;34m)\u001b[0m\u001b[0;34m\u001b[0m\u001b[0;34m\u001b[0m\u001b[0m\n\u001b[0m\u001b[1;32m      5\u001b[0m '''psf_flux = np.sum(data.all_psf, axis=1)\n\u001b[1;32m      6\u001b[0m \u001b[0;31m# plt.plot(sc.time[sq][start:end], psf_flux / np.max(psf_flux), label='Gaussian-fit PSF')\u001b[0m\u001b[0;34m\u001b[0m\u001b[0;34m\u001b[0m\u001b[0;34m\u001b[0m\u001b[0m\n",
      "\u001b[0;31mNameError\u001b[0m: name 'data' is not defined"
     ]
    }
   ],
   "source": [
    "time = sc.time[sq][start:end]\n",
    "photometry_flux = sc.to_lightcurve().flux[sq][start:end]\n",
    "plt.plot(time, photometry_flux / np.max(photometry_flux), label='aperture photometry')\n",
    "plt.plot(time, data.psf_flux[:end-start] / np.max(data.psf_flux[:end-start]))\n",
    "'''psf_flux = np.sum(data.all_psf, axis=1)\n",
    "# plt.plot(sc.time[sq][start:end], psf_flux / np.max(psf_flux), label='Gaussian-fit PSF')\n",
    "plt.plot(time, psf_flux / np.max(psf_flux), label='Zernike-fit PSF sum')\n",
    "for i in range(3):\n",
    "    plt.plot(time, data.all_psf[:,i] / np.max(data.all_psf[:,i]), label='Zernike-fit PSF' + str(i))\n",
    "plt.legend()'''"
   ]
  },
  {
   "cell_type": "code",
   "execution_count": 26,
   "metadata": {
    "tags": []
   },
   "outputs": [
    {
     "output_type": "stream",
     "name": "stdout",
     "text": "766.824152995914\n0.0\n"
    }
   ],
   "source": [
    "print(lk.estimate_cdpp(photometry_flux, transit_duration=1))\n",
    "print(lk.estimate_cdpp(psf_flux, transit_duration=1))"
   ]
  },
  {
   "cell_type": "code",
   "execution_count": null,
   "metadata": {},
   "outputs": [],
   "source": []
  }
 ],
 "metadata": {
  "kernelspec": {
   "display_name": "Python 3.7.9 64-bit ('ots': conda)",
   "language": "python",
   "name": "python37964bitotscondacc917be295874127bfdb41d5623e459a"
  },
  "language_info": {
   "codemirror_mode": {
    "name": "ipython",
    "version": 3
   },
   "file_extension": ".py",
   "mimetype": "text/x-python",
   "name": "python",
   "nbconvert_exporter": "python",
   "pygments_lexer": "ipython3",
   "version": "3.7.9-final"
  }
 },
 "nbformat": 4,
 "nbformat_minor": 2
}